{
 "cells": [
  {
   "cell_type": "code",
   "execution_count": null,
   "id": "80127012-bc0e-4915-8e3b-02989dbe0ab1",
   "metadata": {},
   "outputs": [],
   "source": [
    "#Codificar una solucion que escribo el siguiente \n",
    "#texto llenando los espacios en blanco\n",
    "\n",
    "#mi nombre es ____ y tengo ___ años de edad.\n",
    "#Tambien,siempre he querido ser ____\n",
    "#Gracias por leer me!\n",
    "\n",
    "nombre = input(\"Cual es tu nombre\")\n",
    "edad = input(\"Que edad tienes\")\n",
    "profesion = input(\"que deseas estudiar\")\n",
    "print(\"Mi nombre es\", nombre ,\"y tengo\", edad ,\"años de edad.Tambien siempre he querido ser\", profesion ,\"¡Gracias por leerme!\")\n",
    "\n",
    "Cual es tu nombre Teresa\n",
    "Que edad tienes 24\n",
    "Que deseas estudiar Abogada\n",
    "Mi nombre es Teresa y tengo 24 años de edad. Tambien siempre he querido ser abogada ¡Gracias por leerme!"
   ]
  },
  {
   "cell_type": "code",
   "execution_count": null,
   "id": "bac8d1c9-5057-4766-9d83-cdd4647f325f",
   "metadata": {},
   "outputs": [],
   "source": []
  }
 ],
 "metadata": {
  "kernelspec": {
   "display_name": "",
   "name": ""
  },
  "language_info": {
   "name": ""
  }
 },
 "nbformat": 4,
 "nbformat_minor": 5
}
