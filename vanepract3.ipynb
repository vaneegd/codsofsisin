{
 "cells": [
  {
   "cell_type": "code",
   "execution_count": null,
   "id": "30599c96-52be-4ec6-80e5-a86bfe7d56ba",
   "metadata": {},
   "outputs": [],
   "source": [
    "dublin= +6\n",
    "londres= +7\n",
    "tokio= +15\n",
    "los_angeles= -2\n",
    "nueva_york= +2\n",
    "nueva_deli= +11.3\n",
    "hora_mexico= input(\"ingresa el valor de la hora que quieres consultar: \")\n",
    "hora_mexico= int(hora_mexico)\n",
    "print(\"la hora en dublin seria: %.2f\" %(hora_mexico+dublin))\n",
    "print(\"la hora en londres seria: %.2f\" %(hora_mexico+londres))\n",
    "print(\"la hora en los angeles seria: %.2f\" %(hora_mexico+los_angeles))\n",
    "print(\"la hora en nueva york seria: %.2f\" %(hora_mexico+nueva_york))\n",
    "print(\"la hora en nueva deli seria: %.2f\" %(hora_mexico+nueva_deli))"
   ]
  },
  {
   "cell_type": "code",
   "execution_count": null,
   "id": "c005e3a5-ab3d-4218-83c4-bc0c4351e235",
   "metadata": {},
   "outputs": [],
   "source": []
  }
 ],
 "metadata": {
  "kernelspec": {
   "display_name": "Python [conda env:base] *",
   "language": "python",
   "name": "conda-base-py"
  },
  "language_info": {
   "codemirror_mode": {
    "name": "ipython",
    "version": 3
   },
   "file_extension": ".py",
   "mimetype": "text/x-python",
   "name": "python",
   "nbconvert_exporter": "python",
   "pygments_lexer": "ipython3",
   "version": "3.12.7"
  }
 },
 "nbformat": 4,
 "nbformat_minor": 5
}
