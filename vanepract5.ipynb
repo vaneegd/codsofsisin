{
 "cells": [
  {
   "cell_type": "code",
   "execution_count": null,
   "id": "7f231a53-97e4-4016-b4c1-bb7669460965",
   "metadata": {},
   "outputs": [],
   "source": []
  },
  {
   "cell_type": "code",
   "execution_count": null,
   "id": "b6c08b66-14b6-47fa-a01d-6564dcafe95f",
   "metadata": {},
   "outputs": [],
   "source": []
  },
  {
   "cell_type": "code",
   "execution_count": 5,
   "id": "3d644ddb-6248-4093-aee5-c224e9c43d54",
   "metadata": {},
   "outputs": [
    {
     "name": "stdin",
     "output_type": "stream",
     "text": [
      "Escribe tu nombre vanessa yoselin\n",
      "Escribe tu apellido guzman damian\n"
     ]
    },
    {
     "name": "stdout",
     "output_type": "stream",
     "text": [
      "¿Tu nombre es guzman damian vanessa yoselin ?\n"
     ]
    },
    {
     "name": "stdin",
     "output_type": "stream",
     "text": [
      "ingrese su nombre vanessa\n",
      "Ingrese su edad 15\n",
      "ingrese el año actual 2025\n"
     ]
    },
    {
     "name": "stdout",
     "output_type": "stream",
     "text": [
      "vanessa El año en el que tu podrias tener 100 años de edad es en el 2110\n"
     ]
    }
   ],
   "source": [
    "nombre = input(\"Escribe tu nombre\")\n",
    "apellido = input(\"Escribe tu apellido\")\n",
    "print(\"¿Tu nombre es\", apellido, nombre, \"?\")\n",
    "\n",
    "nombre = input(\"ingrese su nombre\")\n",
    "edad = int(input(\"Ingrese su edad\"))\n",
    "año_nac = int(input(\"ingrese el año actual\"))\n",
    "print(nombre, \"El año en el que tu podrias tener 100 años de edad es en el\", año_nac-edad+100)\n"
   ]
  },
  {
   "cell_type": "code",
   "execution_count": null,
   "id": "55368c9f-e1db-4cf2-aab3-b980c9b61912",
   "metadata": {},
   "outputs": [],
   "source": []
  }
 ],
 "metadata": {
  "kernelspec": {
   "display_name": "Python [conda env:base] *",
   "language": "python",
   "name": "conda-base-py"
  },
  "language_info": {
   "codemirror_mode": {
    "name": "ipython",
    "version": 3
   },
   "file_extension": ".py",
   "mimetype": "text/x-python",
   "name": "python",
   "nbconvert_exporter": "python",
   "pygments_lexer": "ipython3",
   "version": "3.12.7"
  }
 },
 "nbformat": 4,
 "nbformat_minor": 5
}
