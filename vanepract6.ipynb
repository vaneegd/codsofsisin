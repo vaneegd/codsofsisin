{
 "cells": [
  {
   "cell_type": "code",
   "execution_count": 3,
   "id": "a732fc49-dd88-4d02-a80e-3b52291e8729",
   "metadata": {},
   "outputs": [
    {
     "name": "stdout",
     "output_type": "stream",
     "text": [
      "(10, 'hola', 3.14)\n"
     ]
    }
   ],
   "source": [
    "vanesitaP3= tuple([10, \"hola\", 3.14])\n",
    "print(vanesitaP3)"
   ]
  },
  {
   "cell_type": "code",
   "execution_count": 10,
   "id": "8a6ae767-c283-4889-9b31-0f279b69735d",
   "metadata": {},
   "outputs": [
    {
     "name": "stdout",
     "output_type": "stream",
     "text": [
      "3\n"
     ]
    }
   ],
   "source": [
    "vanegd= tuple([1,2,3,4,5])\n",
    "print(vanegd[2])"
   ]
  },
  {
   "cell_type": "code",
   "execution_count": 16,
   "id": "d630aecf-34a8-4062-bdec-5ed88b787afa",
   "metadata": {},
   "outputs": [
    {
     "name": "stdout",
     "output_type": "stream",
     "text": [
      "('romina', 'es', 'flop', 'eduardo', 'es', 'flop')\n"
     ]
    }
   ],
   "source": [
    "yos09= tuple([\"romina\",\"es\",\"flop\"])\n",
    "nessaaa= tuple([\"eduardo\",\"es\",\"flop\"])\n",
    "rolux = yos09+nessaaa \n",
    "print(rolux)"
   ]
  },
  {
   "cell_type": "code",
   "execution_count": 20,
   "id": "588c3ffc-09ae-46b9-895a-9ecc3d2c6727",
   "metadata": {},
   "outputs": [
    {
     "name": "stdout",
     "output_type": "stream",
     "text": [
      "3 1 2\n"
     ]
    }
   ],
   "source": [
    "gay = tuple([1,2,3])\n",
    "gay1 = gay[2]\n",
    "gay2 = gay[0]\n",
    "gay3 = gay[1]\n",
    "print(gay1,gay2,gay3)"
   ]
  },
  {
   "cell_type": "code",
   "execution_count": 22,
   "id": "8294abd3-04e7-4e72-88bf-554bf05d6d48",
   "metadata": {},
   "outputs": [
    {
     "name": "stdout",
     "output_type": "stream",
     "text": [
      "7\n"
     ]
    }
   ],
   "source": [
    "feo = tuple([1,3,5,7,9])\n",
    "caca=feo[3]\n",
    "print(caca)"
   ]
  },
  {
   "cell_type": "code",
   "execution_count": 26,
   "id": "742986ce-272d-4a2c-8de5-7b7b91fca8ab",
   "metadata": {},
   "outputs": [
    {
     "name": "stdout",
     "output_type": "stream",
     "text": [
      "(4, 5, 6)\n"
     ]
    }
   ],
   "source": [
    "quesadillas= tuple([2,3,4,5,6])\n",
    "print(quesadillas[2:5])"
   ]
  },
  {
   "cell_type": "code",
   "execution_count": 28,
   "id": "fd7741e9-0347-4bd8-9ff9-433e4b199682",
   "metadata": {},
   "outputs": [
    {
     "name": "stdout",
     "output_type": "stream",
     "text": [
      "5\n"
     ]
    }
   ],
   "source": [
    "sopes= tuple([10,20,30,40,50])\n",
    "tacos= len(sopes)\n",
    "print(tacos)"
   ]
  },
  {
   "cell_type": "code",
   "execution_count": 32,
   "id": "1296269e-5601-4d14-b708-2308da2aa8f8",
   "metadata": {},
   "outputs": [
    {
     "name": "stdout",
     "output_type": "stream",
     "text": [
      "(4, 5, 6, 7, 8)\n",
      "(4, 5, 6, 7, 8)\n",
      "(4, 5, 6, 7, 8)\n"
     ]
    }
   ],
   "source": [
    "flop= tuple([4,5,6,7,8])\n",
    "print(flop)\n",
    "print(flop)\n",
    "print(flop)"
   ]
  },
  {
   "cell_type": "code",
   "execution_count": 34,
   "id": "4e39da96-13a5-4510-a605-e4300d664571",
   "metadata": {},
   "outputs": [
    {
     "name": "stdout",
     "output_type": "stream",
     "text": [
      "[5, 6, 7, 8, 9]\n"
     ]
    }
   ],
   "source": [
    "uva= [5,6,7,8,9]\n",
    "tuple(uva)\n",
    "print(uva)\n"
   ]
  },
  {
   "cell_type": "code",
   "execution_count": 40,
   "id": "e7ef5aea-251e-40c8-b776-2e64c42b293a",
   "metadata": {},
   "outputs": [
    {
     "data": {
      "text/plain": [
       "3"
      ]
     },
     "execution_count": 40,
     "metadata": {},
     "output_type": "execute_result"
    }
   ],
   "source": [
    "fresa= tuple([5,12,3,8,15])\n",
    "vv=max(fresa)\n",
    "bb=min(fresa)\n",
    "pr"
   ]
  },
  {
   "cell_type": "code",
   "execution_count": null,
   "id": "2b86ce51-47c9-4325-a4c8-4dd80f9b034b",
   "metadata": {},
   "outputs": [],
   "source": []
  }
 ],
 "metadata": {
  "kernelspec": {
   "display_name": "Python [conda env:base] *",
   "language": "python",
   "name": "conda-base-py"
  },
  "language_info": {
   "codemirror_mode": {
    "name": "ipython",
    "version": 3
   },
   "file_extension": ".py",
   "mimetype": "text/x-python",
   "name": "python",
   "nbconvert_exporter": "python",
   "pygments_lexer": "ipython3",
   "version": "3.12.7"
  }
 },
 "nbformat": 4,
 "nbformat_minor": 5
}
